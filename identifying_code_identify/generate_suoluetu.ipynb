{
 "cells": [
  {
   "cell_type": "code",
   "execution_count": 4,
   "metadata": {},
   "outputs": [],
   "source": [
    "# 生成缩略图\n",
    "from PIL import Image, ImageFilter\n",
    "\n",
    "myjpg = Image.open(\"./img/1.jpg\")\n",
    "savejpg = myjpg.filter(ImageFilter.GaussianBlur)\n",
    "savejpg.save(\"xiaojiejie1.jpg\")\n",
    "savejpg.show()"
   ]
  },
  {
   "cell_type": "code",
   "execution_count": 12,
   "metadata": {},
   "outputs": [],
   "source": [
    "# 生成水印\n",
    "from PIL import Image, ImageFilter, ImageFont, ImageDraw\n",
    "ttfont = ImageFont.truetype(\"./font/simkai.ttf\", 50) #20表示字体大小\n",
    "myjpg = Image.open(\"./img/2.jpg\")\n",
    "draw = ImageDraw.Draw(myjpg) #绘图\n",
    "draw.text((50,10), \"beautiful\", fill=(255,200,50), font=ttfont)\n",
    "draw.text((90,40), u\"哈哈哈\", fill=(150,100,85), font=ttfont)\n",
    "myjpg.save(\"xiaojiejie2.jpg\")\n",
    "myjpg.show()"
   ]
  },
  {
   "cell_type": "code",
   "execution_count": 28,
   "metadata": {},
   "outputs": [
    {
     "name": "stdout",
     "output_type": "stream",
     "text": [
      "[316, 124, 682, 437]\n",
      "[316, 124, 682, 437]\n"
     ]
    }
   ],
   "source": [
    "# 透明水印\n",
    "from PIL import Image, ImageFilter, ImageFont, ImageDraw\n",
    "import math\n",
    "ttfont = ImageFont.truetype(\"./font/simkai.ttf\", 50) #50表示字体大小\n",
    "myjpg = Image.open(\"./img/3.jpg\")\n",
    "width, height = myjpg.size #图片的宽度，高度\n",
    "blank = Image.new(\"RGB\", (width, height), \"white\") #新建一个白色的图像\n",
    "draw = ImageDraw.Draw(blank) #写入白色的图像\n",
    "textWidth=textHeight = ttfont.size #字体的大小\n",
    "text = \"ahskdhywvd\"\n",
    "draw.text(((width-textWidth*10)/2, (height-textHeight)/2),\n",
    "          text, fill=(0,0,0), font=ttfont) #绘制一段文本在中央位置\n",
    "textRotate = blank.rotate(30) #旋转30度\n",
    "textRotate.show()\n",
    "# rlen = math.sqrt((textWidth*10/2)**2+(textHeight/2)**2)\n",
    "rlen = textWidth*9/2 #半个半径\n",
    "oriAngle = math.atan(textHeight/(textWidth*10)) #角度,10表示10个字\n",
    "cropw = rlen*math.cos(oriAngle+math.pi/6) #长度与宽度，x\n",
    "croph = rlen*math.sin(oriAngle+math.pi/6) # y\n",
    "# box = [(width-cropw)/2, \n",
    "#        (height-croph)/2, \n",
    "#        (width+cropw)/2,\n",
    "#        (height+croph)/2]\n",
    "# # 这里只是初略计算的\n",
    "# box = [int(width/10), \n",
    "#        int(height/3), \n",
    "#        int(width+textWidth*9/2),\n",
    "#        int(height*2/3)]\n",
    "# 计算box坐标\n",
    "box = [int(width/2-cropw), \n",
    "       int((height-textHeight)/2-croph), \n",
    "       int(width/2+cropw),\n",
    "       int((height+textHeight)/2+croph)]\n",
    "print(box)\n",
    "textimage = textRotate.crop(box) #截取以后的图片\n",
    "textimage.show()\n",
    "textblank = Image.new(\"RGB\", (width, height), \"white\") #新的图片\n",
    "textblank.paste(textimage, box) #粘贴到指定区域\n",
    "textblank.show() #显示图片\n",
    "waterimage = Image.blend(myjpg, textblank, 0.1) #0.1表示透明度的程度\n",
    "waterimage.show()"
   ]
  },
  {
   "cell_type": "code",
   "execution_count": null,
   "metadata": {},
   "outputs": [],
   "source": []
  }
 ],
 "metadata": {
  "kernelspec": {
   "display_name": "Python 3",
   "language": "python",
   "name": "python3"
  },
  "language_info": {
   "codemirror_mode": {
    "name": "ipython",
    "version": 3
   },
   "file_extension": ".py",
   "mimetype": "text/x-python",
   "name": "python",
   "nbconvert_exporter": "python",
   "pygments_lexer": "ipython3",
   "version": "3.6.4"
  }
 },
 "nbformat": 4,
 "nbformat_minor": 2
}
