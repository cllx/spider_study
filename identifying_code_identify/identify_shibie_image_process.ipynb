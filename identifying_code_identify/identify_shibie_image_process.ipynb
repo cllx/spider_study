{
 "cells": [
  {
   "cell_type": "code",
   "execution_count": 4,
   "metadata": {},
   "outputs": [],
   "source": [
    "from PIL import Image, ImageFilter, ImageEnhance\n",
    "import pytesseract\n",
    "\n",
    "image = Image.open(\"./day18/code/验证码识别的图像处理/temp.jpg\")\n",
    "image = image.filter(ImageFilter.MedianFilter()) #强化，模糊小点\n",
    "enhance = ImageEnhance.Contrast(image) #过滤\n",
    "image = enhance.enhance(2) #不超过2个像素点就清理掉，限定像素\n",
    "image = image.convert(\"1\") #黑白色\n",
    "image.save(\"templast.jpg\")"
   ]
  },
  {
   "cell_type": "code",
   "execution_count": 5,
   "metadata": {},
   "outputs": [],
   "source": [
    "# 清除像素点\n",
    "from PIL import Image, ImageFilter, ImageEnhance\n",
    "import pytesseract\n",
    "\n",
    "image = Image.open(\"./templast.jpg\")\n",
    "image = image.filter(ImageFilter.MedianFilter()) #强化，模糊小点\n",
    "image.save(\"tempgo.jpg\")"
   ]
  },
  {
   "cell_type": "code",
   "execution_count": 6,
   "metadata": {},
   "outputs": [],
   "source": [
    "# 再进一步消除杂质点\n",
    "from PIL import Image, ImageFilter, ImageEnhance\n",
    "import pytesseract\n",
    "\n",
    "image = Image.open(\"./tempgo.jpg\")\n",
    "image = image.filter(ImageFilter.MedianFilter()) #强化，模糊小点\n",
    "enhance = ImageEnhance.Contrast(image) #过滤\n",
    "image = enhance.enhance(2) #不超过2个像素点就清理掉，限定像素\n",
    "image = image.convert(\"1\") #黑白色\n",
    "image.save(\"tempgolast.jpg\")"
   ]
  },
  {
   "cell_type": "code",
   "execution_count": 8,
   "metadata": {},
   "outputs": [],
   "source": [
    "# 处理背景\n",
    "from PIL import Image, ImageFilter, ImageEnhance\n",
    "import pytesseract\n",
    "\n",
    "image = Image.open(\"./day18/code/验证码识别的图像处理/code.png\")\n",
    "image = image.point(lambda x :0 if x<143 else 255) #清除比较淡的颜色\n",
    "image = image.convert(\"1\") #黑白色\n",
    "image.save(\"codelast.png\")"
   ]
  },
  {
   "cell_type": "code",
   "execution_count": 3,
   "metadata": {},
   "outputs": [],
   "source": [
    "# 处理验证码\n",
    "from PIL import Image\n",
    "def pngdelbackgroud(image,color):\n",
    "    picdata = image.load() #加载所有图片的像素点\n",
    "    width,height = image.size #像素点根据颜色深浅，去掉背景\n",
    "    for y in range(height): #循环每一个像素点，根据颜色深浅去掉一些像素点\n",
    "        for x in range(width):\n",
    "            if picdata[x,y] < color:\n",
    "                picdata[x,y] = 0\n",
    "            else:\n",
    "                picdata[x,y] = 255\n",
    "    return image\n",
    "image = Image.open(\"./day18/OCR/mjorcen.normal.exp0.png\")\n",
    "image = image.convert(\"L\") #转为灰度，灰度处理\n",
    "# image.show()\n",
    "image = pngdelbackgroud(image,110)\n",
    "image.show()\n",
    "image.save(\"./day18/OCR/mjorcen.normal.exp02.png\")"
   ]
  },
  {
   "cell_type": "code",
   "execution_count": 10,
   "metadata": {},
   "outputs": [],
   "source": [
    "# 处理验证码\n",
    "from PIL import Image\n",
    "def pngdelbackgroud(image,color):\n",
    "    picdata = image.load() #加载所有图片的像素点\n",
    "    width,height = image.size #像素点根据颜色深浅，去掉背景\n",
    "    for y in range(height): #循环每一个像素点，根据颜色深浅去掉一些像素点\n",
    "        for x in range(width):\n",
    "            if picdata[x,y] < color:\n",
    "                picdata[x,y] = 0\n",
    "            else:\n",
    "                picdata[x,y] = 255\n",
    "    return image\n",
    "image = Image.open(\"./day18/code/验证码识别的图像处理/code.png\")\n",
    "image = image.convert(\"L\") #转为灰度，灰度处理\n",
    "image = pngdelbackgroud(image,60)\n",
    "image.show()\n",
    "# image.save(\"./day18/code/验证码识别的图像处理/code1.png\")"
   ]
  },
  {
   "cell_type": "code",
   "execution_count": 2,
   "metadata": {},
   "outputs": [],
   "source": [
    "# 处理干扰线\n",
    "from PIL import Image\n",
    "def depoint(image): #清理干扰线\n",
    "    picdata = image.load()\n",
    "    width,height = image.size\n",
    "    for y in range(1,height-1):\n",
    "        for x in range(1,width-1):\n",
    "            count = 0\n",
    "            if picdata[x,y-1] > 245: #这里必须要转化为灰度才能处理，因为彩图一共有3个颜色通道，不能直接跟int型比较\n",
    "                count = count+1\n",
    "            if picdata[x,y+1] > 245:\n",
    "                count = count+1\n",
    "            if picdata[x-1,y] > 245:\n",
    "                count = count+1\n",
    "            if picdata[x+1,y] > 245:\n",
    "                count = count+1\n",
    "            if count > 2:\n",
    "                picdata[x,y] = 255\n",
    "    return image\n",
    "image = Image.open(\"./day18/code/验证码识别的图像处理/code.png\")\n",
    "image = image.convert(\"L\") #转为灰度，灰度处理\n",
    "image = depoint(image)\n",
    "image.show()\n",
    "# image.save(\"./day18/code/验证码识别的图像处理/code1.png\")"
   ]
  },
  {
   "cell_type": "code",
   "execution_count": 10,
   "metadata": {},
   "outputs": [
    {
     "name": "stdout",
     "output_type": "stream",
     "text": [
      "    i8eo\n"
     ]
    }
   ],
   "source": [
    "# 处理验证码\n",
    "from PIL import Image\n",
    "from pytesseract import pytesseract\n",
    "import pytesseract\n",
    "def pngdelbackgroud(image,color):\n",
    "    picdata = image.load() #加载所有图片的像素点\n",
    "    width,height = image.size #像素点根据颜色深浅，去掉背景\n",
    "    for y in range(height): #循环每一个像素点，根据颜色深浅去掉一些像素点\n",
    "        for x in range(width):\n",
    "            if picdata[x,y] < color:\n",
    "                picdata[x,y] = 0\n",
    "            else:\n",
    "                picdata[x,y] = 255\n",
    "    return image\n",
    "pytesseract.pytesseract.tesseract_cmd = r\"E:\\Tesseract-OCR\\tesseract.exe\"\n",
    "image = Image.open(\"./day18/OCR/mjorcen.normal.exp0.png\")\n",
    "image = image.convert(\"L\") #转为灰度，灰度处理\n",
    "# image.show()\n",
    "image = pngdelbackgroud(image,110)\n",
    "image.show()\n",
    "print(\"   \", pytesseract.pytesseract.image_to_string(image))"
   ]
  },
  {
   "cell_type": "code",
   "execution_count": null,
   "metadata": {},
   "outputs": [],
   "source": []
  }
 ],
 "metadata": {
  "kernelspec": {
   "display_name": "Python 3",
   "language": "python",
   "name": "python3"
  },
  "language_info": {
   "codemirror_mode": {
    "name": "ipython",
    "version": 3
   },
   "file_extension": ".py",
   "mimetype": "text/x-python",
   "name": "python",
   "nbconvert_exporter": "python",
   "pygments_lexer": "ipython3",
   "version": "3.6.4"
  }
 },
 "nbformat": 4,
 "nbformat_minor": 2
}
