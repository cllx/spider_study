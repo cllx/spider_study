{
 "cells": [
  {
   "cell_type": "code",
   "execution_count": null,
   "metadata": {},
   "outputs": [],
   "source": [
    "import multiprocessing\n",
    "from multiprocessing import Process,Pool\n",
    "import time\n",
    "import os\n",
    "def getdata(data):\n",
    "    print(os.getpid(),\"start\")\n",
    "    time.sleep(3)\n",
    "    print(os.getpid(),\"end\")\n",
    "    return data*data\n",
    "if __name__ == \"__main__\":\n",
    "    mylist = [x for x in range(10)]\n",
    "    pool = Pool(processes=4)\n",
    "    pool_outputs = pool.map(getdata, mylist)\n",
    "    pool.close()\n",
    "    pool.join()\n",
    "    print(pool_outputs)"
   ]
  },
  {
   "cell_type": "code",
   "execution_count": null,
   "metadata": {},
   "outputs": [],
   "source": [
    "#二：使用进程池（阻塞,apply）\n",
    "#coding: utf-8\n",
    "from multiprocessing import Process,Pool\n",
    "import time\n",
    "\n",
    "def func(msg):\n",
    "    print( \"msg:\", msg)\n",
    "    time.sleep(0.1)\n",
    "    return msg\n",
    "if __name__ == \"__main__\":\n",
    "    pool = Pool(processes = 3)\n",
    "    res_l=[]\n",
    "    for i in range(10):\n",
    "        msg = \"hello %d\" %(i)\n",
    "        res=pool.apply(func, (msg, ))   #维持执行的进程总数为processes，当一个进程执行完毕后会添加新的进程进去\n",
    "        res_l.append(res) #同步执行，即执行完一个拿到结果，再去执行另外一个\n",
    "    print(\"==============================>\")\n",
    "    pool.close()\n",
    "    pool.join()   #调用join之前，先调用close函数，否则会出错。执行完close后不会有新的进程加入到pool,join函数等待所有子进程结束\n",
    "    print(res_l) #看到的就是最终的结果组成的列表\n",
    "    for i in res_l: #apply是同步的，所以直接得到结果，没有get()方法\n",
    "        print(i)"
   ]
  },
  {
   "cell_type": "code",
   "execution_count": null,
   "metadata": {},
   "outputs": [],
   "source": [
    "from multiprocessing import Pool\n",
    "import time,random,os\n",
    "\n",
    "def work(n):\n",
    "    time.sleep(1)\n",
    "    return n**2\n",
    "if __name__ == '__main__':\n",
    "    p=Pool()\n",
    "    res_l=[]\n",
    "    for i in range(10):\n",
    "        res=p.apply_async(work,args=(i,))\n",
    "        res_l.append(res)\n",
    "    p.close()\n",
    "    p.join() #等待进程池中所有进程执行完毕\n",
    "    nums=[]\n",
    "    for res in res_l:\n",
    "        nums.append(res.get()) #拿到所有结果\n",
    "    print(nums) #主进程拿到所有的处理结果,可以在主进程中进行统一进行处理"
   ]
  },
  {
   "cell_type": "code",
   "execution_count": null,
   "metadata": {},
   "outputs": [],
   "source": []
  }
 ],
 "metadata": {
  "kernelspec": {
   "display_name": "Python 3",
   "language": "python",
   "name": "python3"
  },
  "language_info": {
   "codemirror_mode": {
    "name": "ipython",
    "version": 3
   },
   "file_extension": ".py",
   "mimetype": "text/x-python",
   "name": "python",
   "nbconvert_exporter": "python",
   "pygments_lexer": "ipython3",
   "version": "3.6.4"
  }
 },
 "nbformat": 4,
 "nbformat_minor": 2
}
