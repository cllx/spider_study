{
 "cells": [
  {
   "cell_type": "code",
   "execution_count": 3,
   "metadata": {},
   "outputs": [
    {
     "name": "stdout",
     "output_type": "stream",
     "text": [
      "<class 'generator'>\n",
      "1\n",
      ".......1\n",
      "11\n",
      ".......11\n",
      "11\n",
      ".......111\n"
     ]
    }
   ],
   "source": [
    "# 协程回顾\n",
    "def go():\n",
    "    print(1)\n",
    "    yield(1)\n",
    "    print(11)\n",
    "    yield(11)\n",
    "    print(11)\n",
    "    yield(111)\n",
    "my = go() #实现程序的分段执行\n",
    "print(type(my))\n",
    "print(\".......%d\" %(next(my)))\n",
    "print(\".......%d\" %(next(my)))\n",
    "print(\".......%d\" %(next(my)))"
   ]
  },
  {
   "cell_type": "code",
   "execution_count": null,
   "metadata": {},
   "outputs": [
    {
     "name": "stdout",
     "output_type": "stream",
     "text": [
      "=====>我是刘....\n",
      "=====>我是柳....\n",
      "=====>我是刘....\n",
      "=====>我是柳....\n",
      "=====>我是刘....\n",
      "=====>我是柳....\n",
      "=====>我是刘....\n",
      "=====>我是柳....\n",
      "=====>我是刘....\n",
      "=====>我是柳....\n",
      "=====>我是刘....\n",
      "=====>我是柳....\n",
      "=====>我是刘....\n",
      "=====>我是柳....\n",
      "=====>我是刘....\n"
     ]
    }
   ],
   "source": [
    "# 协程实现来回切换\n",
    "import gevent\n",
    "import greenlet\n",
    "import time\n",
    "\n",
    "def go1():\n",
    "    while True:\n",
    "        print(\"=====>我是刘....\")\n",
    "        gr2.switch()\n",
    "        time.sleep(1)\n",
    "def go2():\n",
    "    while True:\n",
    "        print(\"=====>我是柳....\")\n",
    "        gr1.switch()\n",
    "        time.sleep(1)\n",
    "if __name__ == \"__main__\":\n",
    "    gr1 = greenlet.greenlet(go1)\n",
    "    gr2 = greenlet.greenlet(go2)\n",
    "    gr1.switch()"
   ]
  },
  {
   "cell_type": "code",
   "execution_count": 9,
   "metadata": {},
   "outputs": [
    {
     "name": "stdout",
     "output_type": "stream",
     "text": [
      "娃哈哈等待了1秒\n",
      "娃哈哈等待了2秒\n",
      "娃哈哈等待了3秒\n",
      "娃哈哈等待了4秒\n",
      "娃哈哈等待了5秒\n",
      "娃哈哈等待了6秒\n",
      "娃哈哈等待了7秒\n",
      "娃哈哈等待了8秒\n",
      "娃哈哈等待了9秒\n",
      "娃哈哈等待了10秒\n",
      "加多宝等待了1秒\n",
      "加多宝等待了2秒\n",
      "加多宝等待了3秒\n",
      "加多宝等待了4秒\n",
      "加多宝等待了5秒\n",
      "加多宝等待了6秒\n",
      "加多宝等待了7秒\n",
      "加多宝等待了8秒\n",
      "加多宝等待了9秒\n",
      "加多宝等待了10秒\n",
      "王老吉等待了1秒\n",
      "王老吉等待了2秒\n",
      "王老吉等待了3秒\n",
      "王老吉等待了4秒\n",
      "王老吉等待了5秒\n",
      "王老吉等待了6秒\n",
      "王老吉等待了7秒\n",
      "王老吉等待了8秒\n",
      "王老吉等待了9秒\n",
      "王老吉等待了10秒\n"
     ]
    }
   ],
   "source": [
    "# 协程开发\n",
    "import gevent\n",
    "import time\n",
    "def showwait(name, n):\n",
    "    for i in range(n):\n",
    "        print(name+\"等待了\"+str(i+1)+\"秒\")\n",
    "        time.sleep(1)\n",
    "showwait(\"娃哈哈\", 10)\n",
    "showwait(\"加多宝\", 10)\n",
    "showwait(\"王老吉\", 10)"
   ]
  },
  {
   "cell_type": "code",
   "execution_count": 1,
   "metadata": {},
   "outputs": [
    {
     "name": "stdout",
     "output_type": "stream",
     "text": [
      "娃哈哈等待了1秒\n",
      "加多宝等待了1秒\n",
      "王老吉等待了1秒\n",
      "娃哈哈等待了2秒\n",
      "加多宝等待了2秒\n",
      "王老吉等待了2秒\n",
      "娃哈哈等待了3秒\n",
      "加多宝等待了3秒\n",
      "王老吉等待了3秒\n",
      "娃哈哈等待了4秒\n",
      "加多宝等待了4秒\n",
      "王老吉等待了4秒\n",
      "娃哈哈等待了5秒\n",
      "加多宝等待了5秒\n",
      "王老吉等待了5秒\n",
      "娃哈哈等待了6秒\n",
      "加多宝等待了6秒\n",
      "王老吉等待了6秒\n",
      "娃哈哈等待了7秒\n",
      "加多宝等待了7秒\n",
      "王老吉等待了7秒\n",
      "娃哈哈等待了8秒\n",
      "加多宝等待了8秒\n",
      "王老吉等待了8秒\n",
      "娃哈哈等待了9秒\n",
      "加多宝等待了9秒\n",
      "王老吉等待了9秒\n",
      "娃哈哈等待了10秒\n",
      "加多宝等待了10秒\n",
      "王老吉等待了10秒\n"
     ]
    }
   ],
   "source": [
    "import gevent\n",
    "import time\n",
    "def showwait(name, n):\n",
    "    for i in range(n):\n",
    "        print(name+\"等待了\"+str(i+1)+\"秒\")\n",
    "        gevent.sleep(1) #不需要等待就顺序执行，需要等待，自动切换，同下面的那个对比着看，可以用于下载慢进行加速\n",
    "g1 = gevent.spawn(showwait, \"娃哈哈\", 10)\n",
    "g2 = gevent.spawn(showwait, \"加多宝\", 10)\n",
    "g3 = gevent.spawn(showwait, \"王老吉\", 10)\n",
    "g1.join()\n",
    "g2.join()\n",
    "g3.join()"
   ]
  },
  {
   "cell_type": "code",
   "execution_count": 2,
   "metadata": {},
   "outputs": [
    {
     "name": "stdout",
     "output_type": "stream",
     "text": [
      "娃哈哈等待了1秒\n",
      "娃哈哈等待了2秒\n",
      "娃哈哈等待了3秒\n",
      "娃哈哈等待了4秒\n",
      "娃哈哈等待了5秒\n",
      "娃哈哈等待了6秒\n",
      "娃哈哈等待了7秒\n",
      "娃哈哈等待了8秒\n",
      "娃哈哈等待了9秒\n",
      "娃哈哈等待了10秒\n",
      "加多宝等待了1秒\n",
      "加多宝等待了2秒\n",
      "加多宝等待了3秒\n",
      "加多宝等待了4秒\n",
      "加多宝等待了5秒\n",
      "加多宝等待了6秒\n",
      "加多宝等待了7秒\n",
      "加多宝等待了8秒\n",
      "加多宝等待了9秒\n",
      "加多宝等待了10秒\n",
      "王老吉等待了1秒\n",
      "王老吉等待了2秒\n",
      "王老吉等待了3秒\n",
      "王老吉等待了4秒\n",
      "王老吉等待了5秒\n",
      "王老吉等待了6秒\n",
      "王老吉等待了7秒\n",
      "王老吉等待了8秒\n",
      "王老吉等待了9秒\n",
      "王老吉等待了10秒\n"
     ]
    }
   ],
   "source": [
    "import gevent\n",
    "import time\n",
    "def showwait(name, n):\n",
    "    for i in range(n):\n",
    "        print(name+\"等待了\"+str(i+1)+\"秒\")\n",
    "g1 = gevent.spawn(showwait, \"娃哈哈\", 10)\n",
    "g2 = gevent.spawn(showwait, \"加多宝\", 10)\n",
    "g3 = gevent.spawn(showwait, \"王老吉\", 10)\n",
    "g1.join()\n",
    "g2.join()\n",
    "g3.join()"
   ]
  },
  {
   "cell_type": "code",
   "execution_count": 3,
   "metadata": {},
   "outputs": [
    {
     "name": "stdout",
     "output_type": "stream",
     "text": [
      "娃哈哈等待了1秒\n",
      "娃哈哈等待了2秒\n",
      "娃哈哈等待了3秒\n",
      "娃哈哈等待了4秒\n",
      "娃哈哈等待了5秒\n",
      "娃哈哈等待了6秒\n",
      "娃哈哈等待了7秒\n",
      "娃哈哈等待了8秒\n",
      "娃哈哈等待了9秒\n",
      "娃哈哈等待了10秒\n",
      "加多宝等待了1秒\n",
      "加多宝等待了2秒\n",
      "加多宝等待了3秒\n",
      "加多宝等待了4秒\n",
      "加多宝等待了5秒\n",
      "加多宝等待了6秒\n",
      "加多宝等待了7秒\n",
      "加多宝等待了8秒\n",
      "加多宝等待了9秒\n",
      "加多宝等待了10秒\n",
      "王老吉等待了1秒\n",
      "王老吉等待了2秒\n",
      "王老吉等待了3秒\n",
      "王老吉等待了4秒\n",
      "王老吉等待了5秒\n",
      "王老吉等待了6秒\n",
      "王老吉等待了7秒\n",
      "王老吉等待了8秒\n",
      "王老吉等待了9秒\n",
      "王老吉等待了10秒\n"
     ]
    }
   ],
   "source": [
    "import gevent\n",
    "import time\n",
    "def showwait(name, n):\n",
    "    for i in range(n):\n",
    "        print(name+\"等待了\"+str(i+1)+\"秒\")\n",
    "        time.sleep(1) #用time.sleep()不会自动切换，用gevent.sleep()才会自动切换\n",
    "g1 = gevent.spawn(showwait, \"娃哈哈\", 10)\n",
    "g2 = gevent.spawn(showwait, \"加多宝\", 10)\n",
    "g3 = gevent.spawn(showwait, \"王老吉\", 10)\n",
    "g1.join()\n",
    "g2.join()\n",
    "g3.join()"
   ]
  },
  {
   "cell_type": "code",
   "execution_count": 1,
   "metadata": {},
   "outputs": [
    {
     "name": "stdout",
     "output_type": "stream",
     "text": [
      "======>start:http://www.baidu.com\n",
      "======>start:http://www.163.com\n",
      "======>start:http://www.sina.com\n",
      "======>start:http://www.qq.com\n",
      "======>length:%s %s 153488 http://www.baidu.com\n",
      "======>length:%s %s 46746 http://www.qq.com\n",
      "======>length:%s %s 568809 http://www.sina.com\n",
      "======>length:%s %s 700209 http://www.163.com\n"
     ]
    },
    {
     "data": {
      "text/plain": [
       "[<Greenlet at 0x279db580bf8: _run>,\n",
       " <Greenlet at 0x279db942048: _run>,\n",
       " <Greenlet at 0x279db580e18: _run>,\n",
       " <Greenlet at 0x279db580d08: _run>]"
      ]
     },
     "execution_count": 1,
     "metadata": {},
     "output_type": "execute_result"
    },
    {
     "name": "stderr",
     "output_type": "stream",
     "text": [
      "d:\\python37\\lib\\site-packages\\gevent\\hub.py:154: UserWarning: libuv only supports millisecond timer resolution; all times less will be set to 1 ms\n",
      "  with loop.timer(seconds, ref=ref) as t:\n"
     ]
    }
   ],
   "source": [
    "# 协程版网络下载\n",
    "import gevent\n",
    "import gevent.monkey\n",
    "import urllib\n",
    "\n",
    "gevent.monkey.patch_all() #自动切换、智能切换\n",
    "def download(url):\n",
    "    print(\"======>start:%s\" %(url))\n",
    "    data = urllib.request.urlopen(url).read()\n",
    "    print(\"======>length:%s %s\", len(data), url)\n",
    "gevent.joinall([gevent.spawn(download, \"http://www.baidu.com\"),\n",
    "                gevent.spawn(download, \"http://www.163.com\"),\n",
    "                gevent.spawn(download, \"http://www.sina.com\"),\n",
    "                gevent.spawn(download, \"http://www.qq.com\")])"
   ]
  },
  {
   "cell_type": "code",
   "execution_count": null,
   "metadata": {},
   "outputs": [],
   "source": []
  }
 ],
 "metadata": {
  "kernelspec": {
   "display_name": "Python 3",
   "language": "python",
   "name": "python3"
  },
  "language_info": {
   "codemirror_mode": {
    "name": "ipython",
    "version": 3
   },
   "file_extension": ".py",
   "mimetype": "text/x-python",
   "name": "python",
   "nbconvert_exporter": "python",
   "pygments_lexer": "ipython3",
   "version": "3.6.4"
  }
 },
 "nbformat": 4,
 "nbformat_minor": 2
}
