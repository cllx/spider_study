{
 "cells": [
  {
   "cell_type": "code",
   "execution_count": 1,
   "metadata": {},
   "outputs": [],
   "source": [
    "import re\n",
    "import requests as rq"
   ]
  },
  {
   "cell_type": "code",
   "execution_count": 1,
   "metadata": {},
   "outputs": [],
   "source": [
    "import requests,os,json,base64 \n",
    "from scrapy.selector import Selector \n",
    "from binascii import hexlify \n",
    "from Crypto.Cipher import AES \n",
    "\n",
    "class Encrypyed():\n",
    "    '''传入歌曲的ID，加密生成'params'、'encSecKey 返回'''\n",
    "    def __init__(self):\n",
    "        self.pub_key = '010001'\n",
    "        self.modulus = '00e0b509f6259df8642dbc35662901477df22677ec152b5ff68ace615bb7b725152b3ab17a876aea8a5aa76d2e417629ec4ee341f56135fccf695280104e0312ecbda92557c93870114af6c9d05c4f7f0c3685b7a46bee255932575cce10b424d813cfe4875d3e82047b97ddef52741d546b8e289dc6935b3ece0462db0a22b8e7'\n",
    "        self.nonce = '0CoJUm6Qyw8W8jud'\n",
    "\n",
    "    def create_secret_key(self, size):\n",
    "        return hexlify(os.urandom(size))[:16].decode('utf-8') \n",
    "    def aes_encrypt(self,text, key):\n",
    "        iv = '0102030405060708'\n",
    "        pad = 16 - len(text) % 16\n",
    "        text = text + pad * chr(pad) \n",
    "        encryptor = AES.new(key, AES.MODE_CBC, iv) \n",
    "        result = encryptor.encrypt(text) \n",
    "        result_str = base64.b64encode(result).decode('utf-8') \n",
    "        return result_str \n",
    "    def rsa_encrpt(self,text, pubKey, modulus):\n",
    "        text = text[::-1] \n",
    "        rs = pow(int(hexlify(text.encode('utf-8')), 16), int(pubKey, 16), int(modulus, 16)) \n",
    "        return format(rs, 'x').zfill(256) \n",
    "    def work(self,ids,br=128000):\n",
    "        text = {'ids': [ids], 'br': br, 'csrf_token': ''} \n",
    "        text = json.dumps(text) \n",
    "        i=self.create_secret_key(16) \n",
    "        encText =self.aes_encrypt(text, self.nonce) \n",
    "        encText=self.aes_encrypt(encText,i) \n",
    "        encSecKey=self.rsa_encrpt(i,self.pub_key,self.modulus) \n",
    "        data = {'params': encText, 'encSecKey': encSecKey} \n",
    "        return data \n",
    "    def search(self,text):\n",
    "        text = json.dumps(text) \n",
    "        i = self.create_secret_key(16) \n",
    "        encText = self.aes_encrypt(text, self.nonce) \n",
    "        encText = self.aes_encrypt(encText, i) \n",
    "        encSecKey = self.rsa_encrpt(i, self.pub_key, self.modulus) \n",
    "        data = {'params': encText, 'encSecKey': encSecKey} \n",
    "        return data \n",
    "class search():\n",
    "    '''跟歌单直接下载的不同之处，1.就是headers的referer\n",
    "                              2.加密的text内容不一样！\n",
    "                              3.搜索的URL也是不一样的\n",
    "        输入搜索内容，可以根据歌曲ID进行下载，大家可以看我根据跟单下载那章，自行组合\n",
    "                                '''\n",
    "    def __init__(self):\n",
    "        self.headers = { 'User-Agent': 'Mozilla/5.0 (Windows NT 6.1; WOW64) AppleWebKit/537.36 (KHTML, like Gecko) Chrome/55.0.2883.87 Safari/537.36', 'Host': 'music.163.com', 'Referer': 'http://music.163.com/search/'} ###!!注意，搜索跟歌单的不同之处！！\n",
    "        self.main_url='http://music.163.com/'\n",
    "        self.session = requests.Session() \n",
    "        self.session.headers=self.headers \n",
    "        self.ep=Encrypyed() \n",
    "    def search_song(self, search_content,search_type=1, limit=9):\n",
    "        \"\"\"\n",
    "        根据音乐名搜索\n",
    "      :params search_content: 音乐名\n",
    "      :params search_type: 不知\n",
    "      :params limit: 返回结果数量\n",
    "      return: 可以得到id 再进去歌曲具体的url\n",
    "        \"\"\"\n",
    "        url = 'http://music.163.com/weapi/cloudsearch/get/web?csrf_token='\n",
    "        text = {'s': search_content, 'type': search_type, 'offset': 0, 'sub': 'false', 'limit': limit} \n",
    "        data = self.ep.search(text) \n",
    "        resp = self.session.post(url, data=data) \n",
    "        result = resp.json() \n",
    "        if result['result']['songCount']<= 0:\n",
    "            print('搜不到！！') \n",
    "        else:\n",
    "            songs = result['result']['songs'] \n",
    "        for song in songs:\n",
    "            song_id,song_name,singer,alia = song['id'],song['name'],song['ar'][0]['name'],song['al']['name'] \n",
    "            print(song_id,song_name,singer,alia)\n"
   ]
  },
  {
   "cell_type": "code",
   "execution_count": 2,
   "metadata": {},
   "outputs": [
    {
     "name": "stdout",
     "output_type": "stream",
     "text": [
      "571338279 往后余生 王贰浪 往后余生\n",
      "557584888 往后余生 马良 往后余生\n",
      "1311319953 往后余生 孙茜茹 往后余生\n",
      "1332430663 往后余生（女声吉他弹唱）（Cover：王贰浪） 李瑨瑶 你瑶的吉他弹唱第四弹（抖音）\n",
      "554118097 往后余生原创(demo) 马良 往后余生DEMO\n",
      "1319151498 往后余生（Cover：王贰浪） Chill_y 民谣\n",
      "1334696537 往后余生（男版）（Cover：马良） 张雨农 FM濃【民谣杂集】\n",
      "571565850 往后余生 宋雨 往后余生\n",
      "571336293 往后余生-伴奏 王贰浪 往后余生\n"
     ]
    }
   ],
   "source": [
    "d=search()\n",
    "d.search_song('往后余生')"
   ]
  },
  {
   "cell_type": "code",
   "execution_count": null,
   "metadata": {},
   "outputs": [],
   "source": [
    "html = rq.get(url).content.decode(\"utf-8\")"
   ]
  }
 ],
 "metadata": {
  "kernelspec": {
   "display_name": "Python 3",
   "language": "python",
   "name": "python3"
  },
  "language_info": {
   "codemirror_mode": {
    "name": "ipython",
    "version": 3
   },
   "file_extension": ".py",
   "mimetype": "text/x-python",
   "name": "python",
   "nbconvert_exporter": "python",
   "pygments_lexer": "ipython3",
   "version": "3.6.4"
  }
 },
 "nbformat": 4,
 "nbformat_minor": 2
}
