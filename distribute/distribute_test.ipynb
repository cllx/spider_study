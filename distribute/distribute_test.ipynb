{
 "cells": [
  {
   "cell_type": "code",
   "execution_count": null,
   "metadata": {},
   "outputs": [],
   "source": [
    "import multiprocessing #分布式进程\n",
    "import multiprocessing.managers #分布式管理器\n",
    "import random, time #随机数，时间\n",
    "import queue\n",
    "\n",
    "task_queue = queue.Queue() #任务\n",
    "result_queue = queue.Queue() #结果\n",
    "\n",
    "def return_task():\n",
    "    return task_queue #返回任务队列\n",
    "def return_result():\n",
    "    return result_queue #返回结果队列\n",
    "\n",
    "class QueueManger(multiprocessing.managers.BaseManager): #继承，进程共享数据\n",
    "    pass\n",
    "\n",
    "if __name__ == \"__main__\":\n",
    "    multiprocessing.freeze_support() #开启分布式支持\n",
    "    QueueManger.register(\"get_task\", callable=return_task) #注册函数给客户端调用\n",
    "    QueueManger.register(\"get_result\", callable=return_result)\n",
    "    s = \"123456\"\n",
    "    manger = QueueManger(address=(\"127.0.0.1\", 8848), authkey=bytes(s.encode('utf-8'))) #创建一个管理器，设置地址和密码\n",
    "    manger.start() #开启\n",
    "    task, result = manger.get_task(), manger.get_result() #任务，结果\n",
    "    for i in range(10000):\n",
    "        print(\"task add data %d\" %i)\n",
    "        task.put(i)\n",
    "    print(\"waitting for------\")\n",
    "    for i in range(10000):\n",
    "        res = result.get(timeout=100)\n",
    "        print(\"get data %s\" %res)\n",
    "    manger.shutdown()  # 关闭服务器\n"
   ]
  },
  {
   "cell_type": "code",
   "execution_count": null,
   "metadata": {},
   "outputs": [],
   "source": [
    "# coding:utf-8import multiprocessing.managers #分布式管理器\n",
    "import random, time #随机数，时间\n",
    "import queue\n",
    "\n",
    "class QueueManger(multiprocessing.managers.BaseManager): #继承，进程共享数据\n",
    "    pass\n",
    "\n",
    "if __name__ == \"__main__\":\n",
    "    QueueManger.register(\"get_task\")\n",
    "    QueueManger.register(\"get_result\")\n",
    "    s = \"123456\"\n",
    "    manger = QueueManger(address=(\"127.0.0.1\", 8848), authkey=bytes(s.encode('utf-8')))\n",
    "    manger.connect() #链接服务器\n",
    "    task = manger.get_task()\n",
    "    result = manger.get_result() #任务，结果\n",
    "\n",
    "    for i in range(1000):\n",
    "        try:\n",
    "            data = task.get()\n",
    "            print(\"client get %s\" %data)\n",
    "            result.put(\"client\" + str(data+10))\n",
    "        except:\n",
    "            pass\n",
    "import multiprocessing #分布式进程\n"
   ]
  },
  {
   "cell_type": "code",
   "execution_count": null,
   "metadata": {},
   "outputs": [],
   "source": []
  }
 ],
 "metadata": {
  "kernelspec": {
   "display_name": "Python 3",
   "language": "python",
   "name": "python3"
  },
  "language_info": {
   "codemirror_mode": {
    "name": "ipython",
    "version": 3
   },
   "file_extension": ".py",
   "mimetype": "text/x-python",
   "name": "python",
   "nbconvert_exporter": "python",
   "pygments_lexer": "ipython3",
   "version": "3.6.4"
  }
 },
 "nbformat": 4,
 "nbformat_minor": 2
}
