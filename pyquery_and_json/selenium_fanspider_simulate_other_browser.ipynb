{
 "cells": [
  {
   "cell_type": "code",
   "execution_count": 3,
   "metadata": {},
   "outputs": [
    {
     "name": "stderr",
     "output_type": "stream",
     "text": [
      "e:\\anaconda3\\lib\\site-packages\\selenium\\webdriver\\phantomjs\\webdriver.py:49: UserWarning: Selenium support for PhantomJS has been deprecated, please use headless versions of Chrome or Firefox instead\n",
      "  warnings.warn('Selenium support for PhantomJS has been deprecated, please use headless '\n"
     ]
    }
   ],
   "source": [
    "# coding:utf-8\n",
    "# 无界面浏览器，冒充其他浏览器，来反一些网站禁止无界面浏览器\n",
    "import selenium\n",
    "from selenium import webdriver\n",
    "from selenium.webdriver.common.desired_capabilities import DesiredCapabilities\n",
    "import json\n",
    "import jsonpath\n",
    "import time\n",
    "\n",
    "dcap = dict(DesiredCapabilities.PHANTOMJS) #处理无界面浏览器\n",
    "dcap[\"phantomjs.page.settings.userAgent\"] = (\"Mozilla/5.0 (Linux; U; Android 2.3.7; en-us; Nexus One Build/FRF91) AppleWebKit/533.1 (KHTML, like Gecko) Version/4.0 Mobile Safari/533.1\")\n",
    "driver = selenium.webdriver.PhantomJS(executable_path = r\"G:\\python\\jupyter\\spider\\视频第二天\\爬虫tools\\phantomjs-2.1.1-windows\\bin\\phantomjs.exe\", desired_capabilities=dcap)\n",
    "driver.get(\"http://www.httpbin.org/user-agent\")\n",
    "driver.get_screenshot_as_file(\"3.png\")\n",
    "driver.quit()"
   ]
  },
  {
   "cell_type": "code",
   "execution_count": 4,
   "metadata": {},
   "outputs": [
    {
     "name": "stderr",
     "output_type": "stream",
     "text": [
      "e:\\anaconda3\\lib\\site-packages\\ipykernel_launcher.py:13: DeprecationWarning: use options instead of chrome_options\n",
      "  del sys.path[0]\n"
     ]
    }
   ],
   "source": [
    "# coding:utf-8\n",
    "# 无界面浏览器，冒充其他浏览器，来反一些网站禁止无界面浏览器\n",
    "# 反反爬虫，冒充苹果浏览器\n",
    "import selenium\n",
    "from selenium import webdriver\n",
    "from selenium.webdriver.common.desired_capabilities import DesiredCapabilities\n",
    "import json\n",
    "import jsonpath\n",
    "import time\n",
    "\n",
    "options = selenium.webdriver.ChromeOptions()\n",
    "options.add_argument(\"lang=zh_CN.UTF-8\")\n",
    "options.add_argument(\"user-agent=\\\"Mozilla/5.0 (iPad; U; CPU OS 4_3_3 like Mac OS X; en-us) AppleWebKit/533.17.9 (KHTML, like Gecko) Version/5.0.2 Mobile/8J2 Safari/6533.18.5\\\"\")\n",
    "driver = webdriver.Chrome(chrome_options=options) #冒充ipad浏览器\n",
    "driver.get(\"http://www.httpbin.org/user-agent\")\n",
    "driver.get_screenshot_as_file(\"4.png\")\n",
    "driver.quit()"
   ]
  },
  {
   "cell_type": "code",
   "execution_count": null,
   "metadata": {},
   "outputs": [],
   "source": []
  }
 ],
 "metadata": {
  "kernelspec": {
   "display_name": "Python 3",
   "language": "python",
   "name": "python3"
  },
  "language_info": {
   "codemirror_mode": {
    "name": "ipython",
    "version": 3
   },
   "file_extension": ".py",
   "mimetype": "text/x-python",
   "name": "python",
   "nbconvert_exporter": "python",
   "pygments_lexer": "ipython3",
   "version": "3.6.4"
  }
 },
 "nbformat": 4,
 "nbformat_minor": 2
}
