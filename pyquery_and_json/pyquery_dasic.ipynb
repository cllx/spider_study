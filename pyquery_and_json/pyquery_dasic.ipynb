{
 "cells": [
  {
   "cell_type": "code",
   "execution_count": 8,
   "metadata": {},
   "outputs": [
    {
     "name": "stdout",
     "output_type": "stream",
     "text": [
      "<title>友情链接查询 - 站长工具</title>\n",
      "　　　　\n",
      "友情链接查询 - 站长工具\n",
      "<a href=\"http://www.91wan.com/\" target=\"_blank\" id=\"hi\">91wan游戏</a>\n",
      "\n",
      "　　\n",
      "91wan游戏\n",
      "青少年发展基金会\n",
      "洛克王国\n",
      "奥拉星\n",
      "手机游戏\n",
      "手机壁纸\n",
      "4399小游戏\n",
      "91wan游戏\n"
     ]
    }
   ],
   "source": [
    "import pyquery\n",
    "html = '''\n",
    "<html>\n",
    "　　<head>\n",
    "　　　　<meta name=\"content-type\" content=\"text/html; charset=utf-8\" />\n",
    "　　　　<title>友情链接查询 - 站长工具</title>\n",
    "　　　　<!-- uRj0Ak8VLEPhjWhg3m9z4EjXJwc -->\n",
    "　　　　<meta name=\"Keywords\" content=\"友情链接查询\" />\n",
    "　　　　<meta name=\"Description\" content=\"友情链接查询\" />\n",
    "\n",
    "　　</head>\n",
    "　　<body>\n",
    "　　　　<h1 class=\"heading\">Top News</h1>\n",
    "　　　　<p style=\"font-size: 200%\">World News only on this page</p>\n",
    "　　　　Ah, and here's some more text, by the way.\n",
    "　　　　<p>... and this is a parsed fragment ...</p>\n",
    "\n",
    "　　　　<a href=\"http://www.cydf.org.cn/\" rel=\"nofollow\" target=\"_blank\">青少年发展基金会</a> \n",
    "　　　　<a href=\"http://www.4399.com/flash/32979.htm\" target=\"_blank\">洛克王国</a> \n",
    "　　　　<a href=\"http://www.4399.com/flash/35538.htm\" target=\"_blank\">奥拉星</a> \n",
    "　　　　<a href=\"http://game.3533.com/game/\" target=\"_blank\">手机游戏</a>\n",
    "　　　　<a href=\"http://game.3533.com/tupian/\" target=\"_blank\">手机壁纸</a>\n",
    "　　　　<a href=\"http://www.4399.com/\" target=\"_blank\">4399小游戏</a> \n",
    "　　　　<a href=\"http://www.91wan.com/\" target=\"_blank\" id=\"hi\">91wan游戏</a>\n",
    "\n",
    "　　</body>\n",
    "</html>'''\n",
    "pyq = pyquery.PyQuery(html) #根据字符串初始化\n",
    "print(pyq('title'))\n",
    "print(pyq(\"title\").text())\n",
    "print(pyq(\"#hi\")) #表示id\n",
    "print(pyq(\"#hi\").text())\n",
    "alist = pyq(\"a\")\n",
    "for line in alist:\n",
    "    print(pyq(line).text()) #处理子元素"
   ]
  },
  {
   "cell_type": "code",
   "execution_count": 5,
   "metadata": {},
   "outputs": [
    {
     "name": "stdout",
     "output_type": "stream",
     "text": [
      "<html/>\n",
      "-----------------------------------------------------------------\n",
      "<html/>\n",
      "-----------------------------------------------------------------\n",
      "<html> <head><meta http-equiv=\"content-type\" content=\"text/html;charset=utf-8\"/><meta http-equiv=\"X-UA-Compatible\" content=\"IE=Edge\"/><meta content=\"always\" name=\"referrer\"/><link rel=\"stylesheet\" type=\"text/css\" href=\"http://s1.bdstatic.com/r/www/cache/bdorz/baidu.min.css\"/><title>ç¾åº¦ä¸ä¸ï¼ä½ å°±ç¥é</title></head> <body link=\"#0000cc\"> <div id=\"wrapper\"> <div id=\"head\"> <div class=\"head_wrapper\"> <div class=\"s_form\"> <div class=\"s_form_wrapper\"> <div id=\"lg\"> <img hidefocus=\"true\" src=\"//www.baidu.com/img/bd_logo1.png\" width=\"270\" height=\"129\"/> </div> <form id=\"form\" name=\"f\" action=\"//www.baidu.com/s\" class=\"fm\"> <input type=\"hidden\" name=\"bdorz_come\" value=\"1\"/> <input type=\"hidden\" name=\"ie\" value=\"utf-8\"/> <input type=\"hidden\" name=\"f\" value=\"8\"/> <input type=\"hidden\" name=\"rsv_bp\" value=\"1\"/> <input type=\"hidden\" name=\"rsv_idx\" value=\"1\"/> <input type=\"hidden\" name=\"tn\" value=\"baidu\"/><span class=\"bg s_ipt_wr\"><input id=\"kw\" name=\"wd\" class=\"s_ipt\" value=\"\" maxlength=\"255\" autocomplete=\"off\" autofocus=\"\"/></span><span class=\"bg s_btn_wr\"><input type=\"submit\" id=\"su\" value=\"ç¾åº¦ä¸ä¸\" class=\"bg s_btn\"/></span> </form> </div> </div> <div id=\"u1\"> <a href=\"http://news.baidu.com\" name=\"tj_trnews\" class=\"mnav\">æ°é»</a> <a href=\"http://www.hao123.com\" name=\"tj_trhao123\" class=\"mnav\">hao123</a> <a href=\"http://map.baidu.com\" name=\"tj_trmap\" class=\"mnav\">å°å¾</a> <a href=\"http://v.baidu.com\" name=\"tj_trvideo\" class=\"mnav\">è§é¢</a> <a href=\"http://tieba.baidu.com\" name=\"tj_trtieba\" class=\"mnav\">è´´å§</a> <noscript> <a href=\"http://www.baidu.com/bdorz/login.gif?login&amp;tpl=mn&amp;u=http%3A%2F%2Fwww.baidu.com%2f%3fbdorz_come%3d1\" name=\"tj_login\" class=\"lb\">ç»å½</a> </noscript> <script>document.write('&lt;a href=\"http://www.baidu.com/bdorz/login.gif?login&amp;tpl=mn&amp;u='+ encodeURIComponent(window.location.href+ (window.location.search === \"\" ? \"?\" : \"&amp;\")+ \"bdorz_come=1\")+ '\" name=\"tj_login\" class=\"lb\"&gt;ç»å½&lt;/a&gt;');</script> <a href=\"//www.baidu.com/more/\" name=\"tj_briicon\" class=\"bri\" style=\"display: block;\">æ´å¤äº§å</a> </div> </div> </div> <div id=\"ftCon\"> <div id=\"ftConw\"> <p id=\"lh\"> <a href=\"http://home.baidu.com\">å",
      "³äºç¾åº¦</a> <a href=\"http://ir.baidu.com\">About Baidu</a> </p> <p id=\"cp\">©2017 Baidu <a href=\"http://www.baidu.com/duty/\">ä½¿ç¨ç¾åº¦åå¿",
      "è¯»</a>  <a href=\"http://jianyi.baidu.com/\" class=\"cp-feedback\">æè§åé¦</a> äº¬ICPè¯030173å·  <img src=\"//www.baidu.com/img/gs.gif\"/> </p> </div> </div> </div> </body> </html>\n",
      "-----------------------------------------------------------------\n",
      "<html>\n",
      "<body>\n",
      "<div>\n",
      "    <ul>\n",
      "        <li class=\"item-0\" text=\"1\"><a href=\"link1.html\">first item</a></li>\n",
      "        <li class=\"item-1\" text=\"2\"><a href=\"link2.html\">second item</a></li>\n",
      "        <li class=\"item-inactive\" text=\"3\"><a href=\"link3.html\"><span class=\"bold\">third item</span></a></li>\n",
      "        <li class=\"item-1\" text=\"4\"><a href=\"link4.html\">fourth item</a></li>\n",
      "        <li class=\"item-0\" text=\"5\"><a href=\"link5.html\">fifth item</a></li>\n",
      "    </ul>\n",
      "</div>\n",
      "</body>\n",
      "</html>\n",
      "-----------------------------------------------------------------\n",
      "<class 'pyquery.pyquery.PyQuery'>\n",
      "-----------------------------------------------------------------\n",
      "None\n"
     ]
    }
   ],
   "source": [
    "import pyquery\n",
    "import lxml\n",
    "# pyquery初始化（网页）的四种风格\n",
    "docl = pyquery.PyQuery(\"<html></html>\")\n",
    "doc2 = pyquery.PyQuery(lxml.etree.fromstring(\"<html></html>\"))\n",
    "doc3 = pyquery.PyQuery(\"http://www.baidu.com\")\n",
    "doc4 = pyquery.PyQuery(filename=\"lxml.html\")\n",
    "print(docl)\n",
    "print(\"-----------------------------------------------------------------\")\n",
    "print(doc2)\n",
    "print(\"-----------------------------------------------------------------\")\n",
    "print(doc3)\n",
    "print(\"-----------------------------------------------------------------\")\n",
    "print(doc4)\n",
    "print(\"-----------------------------------------------------------------\")\n",
    "print(type(docl))\n",
    "print(\"-----------------------------------------------------------------\")\n",
    "print(doc2.html())"
   ]
  },
  {
   "cell_type": "code",
   "execution_count": null,
   "metadata": {},
   "outputs": [],
   "source": []
  }
 ],
 "metadata": {
  "kernelspec": {
   "display_name": "Python 3",
   "language": "python",
   "name": "python3"
  },
  "language_info": {
   "codemirror_mode": {
    "name": "ipython",
    "version": 3
   },
   "file_extension": ".py",
   "mimetype": "text/x-python",
   "name": "python",
   "nbconvert_exporter": "python",
   "pygments_lexer": "ipython3",
   "version": "3.6.4"
  }
 },
 "nbformat": 4,
 "nbformat_minor": 2
}
