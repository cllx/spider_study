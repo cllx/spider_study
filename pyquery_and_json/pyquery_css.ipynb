{
 "cells": [
  {
   "cell_type": "code",
   "execution_count": 10,
   "metadata": {},
   "outputs": [
    {
     "name": "stdout",
     "output_type": "stream",
     "text": [
      "<class 'pyquery.pyquery.PyQuery'>\n",
      "<head>\n",
      "\t<title>test</title>\n",
      "</head>\n",
      "\n",
      "<title>test</title>\n",
      "\n",
      "test\n",
      "<Element div at 0x24ae6474588>\n",
      "None\n",
      "\n",
      "\n"
     ]
    }
   ],
   "source": [
    "# coding:utf-8\n",
    "import pyquery\n",
    "import lxml.etree\n",
    "doc = pyquery.PyQuery(filename=\"lxml.html\", encoding='utf-8')\n",
    "print(type(doc))\n",
    "print(doc('head'))\n",
    "print(doc('head title')) #head标签 title标签\n",
    "print(doc('head title').text())\n",
    "print(doc('#container')[0]) #这个仍是一个pyquery对象，但仍可以按类似于list的[0]取\n",
    "print(doc('#container').attr[\"class\"]) #取标签内部属性\n",
    "print(doc('#container .list')) #按照类型取出class=list\n",
    "print(doc('#container .list li'))"
   ]
  },
  {
   "cell_type": "code",
   "execution_count": 14,
   "metadata": {
    "scrolled": true
   },
   "outputs": [
    {
     "name": "stdout",
     "output_type": "stream",
     "text": [
      "<class 'pyquery.pyquery.PyQuery'>\n",
      "<class 'pyquery.pyquery.PyQuery'>\n",
      "<ul class=\"list\">\n",
      "        <li class=\"item-0\" text=\"1\"><a href=\"link1.html\">first item</a></li>\n",
      "        <li class=\"item-1\" text=\"2\"><a href=\"link2.html\">second item</a></li>\n",
      "        <li class=\"item-inactive\" text=\"3\"><a href=\"link3.html\"><span class=\"bold\">third item</span></a></li>\n",
      "        <li class=\"item-1\" text=\"4\"><a href=\"link4.html\">fourth item</a></li>\n",
      "        <li class=\"item-0\" text=\"5\"><a href=\"link5.html\">fifth item</a></li>\n",
      "    </ul>\n",
      "\n",
      "<Element li at 0x225d0593188>\n",
      "<Element li at 0x225d0593608>\n",
      "<Element li at 0x225d0593688>\n",
      "<Element li at 0x225d05931c8>\n",
      "<Element li at 0x225d057ac08>\n",
      "<Element li at 0x225d0593188>\n",
      "None\n",
      "<Element li at 0x225d0593608>\n",
      "None\n",
      "<Element li at 0x225d0593688>\n",
      "None\n",
      "<Element li at 0x225d05931c8>\n",
      "None\n",
      "<Element li at 0x225d057ac08>\n",
      "None\n",
      "<div id=\"container\">\n",
      "    <ul class=\"list\">\n",
      "        <li class=\"item-0\" text=\"1\"><a href=\"link1.html\">first item</a></li>\n",
      "        <li class=\"item-1\" text=\"2\"><a href=\"link2.html\">second item</a></li>\n",
      "        <li class=\"item-inactive\" text=\"3\"><a href=\"link3.html\"><span class=\"bold\">third item</span></a></li>\n",
      "        <li class=\"item-1\" text=\"4\"><a href=\"link4.html\">fourth item</a></li>\n",
      "        <li class=\"item-0\" text=\"5\"><a href=\"link5.html\">fifth item</a></li>\n",
      "    </ul>\n",
      "</div>\n",
      "\n",
      "<html>\n",
      "<head>\n",
      "\t<title>test</title>\n",
      "</head>\n",
      "<body>\n",
      "<div id=\"container\">\n",
      "    <ul class=\"list\">\n",
      "        <li class=\"item-0\" text=\"1\"><a href=\"link1.html\">first item</a></li>\n",
      "        <li class=\"item-1\" text=\"2\"><a href=\"link2.html\">second item</a></li>\n",
      "        <li class=\"item-inactive\" text=\"3\"><a href=\"link3.html\"><span class=\"bold\">third item</span></a></li>\n",
      "        <li class=\"item-1\" text=\"4\"><a href=\"link4.html\">fourth item</a></li>\n",
      "        <li class=\"item-0\" text=\"5\"><a href=\"link5.html\">fifth item</a></li>\n",
      "    </ul>\n",
      "</div>\n",
      "</body>\n",
      "</html><body>\n",
      "<div id=\"container\">\n",
      "    <ul class=\"list\">\n",
      "        <li class=\"item-0\" text=\"1\"><a href=\"link1.html\">first item</a></li>\n",
      "        <li class=\"item-1\" text=\"2\"><a href=\"link2.html\">second item</a></li>\n",
      "        <li class=\"item-inactive\" text=\"3\"><a href=\"link3.html\"><span class=\"bold\">third item</span></a></li>\n",
      "        <li class=\"item-1\" text=\"4\"><a href=\"link4.html\">fourth item</a></li>\n",
      "        <li class=\"item-0\" text=\"5\"><a href=\"link5.html\">fifth item</a></li>\n",
      "    </ul>\n",
      "</div>\n",
      "</body>\n",
      "<div id=\"container\">\n",
      "    <ul class=\"list\">\n",
      "        <li class=\"item-0\" text=\"1\"><a href=\"link1.html\">first item</a></li>\n",
      "        <li class=\"item-1\" text=\"2\"><a href=\"link2.html\">second item</a></li>\n",
      "        <li class=\"item-inactive\" text=\"3\"><a href=\"link3.html\"><span class=\"bold\">third item</span></a></li>\n",
      "        <li class=\"item-1\" text=\"4\"><a href=\"link4.html\">fourth item</a></li>\n",
      "        <li class=\"item-0\" text=\"5\"><a href=\"link5.html\">fifth item</a></li>\n",
      "    </ul>\n",
      "</div>\n",
      "\n",
      "\n"
     ]
    }
   ],
   "source": [
    "import pyquery\n",
    "import lxml.etree\n",
    "doc = pyquery.PyQuery(filename=\"lxml.html\")\n",
    "print(type(doc))\n",
    "items = doc(\".list\")\n",
    "print(type(items))\n",
    "print(items)\n",
    "lists = items.find(\"li\") #查找所有子节点\n",
    "for line in lists:\n",
    "    print(line)\n",
    "li = items.children() #遍历所有孩子节点\n",
    "for line in li:\n",
    "    print(line)\n",
    "    print(line.text)\n",
    "print(items.parent()) #查看父节点\n",
    "print(items.parents()) #查看所有父节点\n",
    "li = doc(\".list .item-0.active\") #兄弟节点\n",
    "print(li.siblings())"
   ]
  },
  {
   "cell_type": "code",
   "execution_count": 26,
   "metadata": {},
   "outputs": [
    {
     "name": "stdout",
     "output_type": "stream",
     "text": [
      "<li class=\"item-0 active\" text=\"1\"><a href=\"link1.html\">first item</a></li>\n",
      "        \n",
      "None\n",
      "None\n",
      "\n",
      "None\n",
      "None\n",
      "None\n",
      "<li class=\"item-0 active\" text=\"1\"><a href=\"link1.html\">first item</a></li>\n",
      "        \n",
      "<li class=\"item-1\" text=\"2\"><a href=\"link2.html\">second item</a></li>\n",
      "        \n",
      "<li class=\"item-inactive\" text=\"3\"><a href=\"link3.html\"><span class=\"bold\">third item</span></a></li>\n",
      "        \n",
      "<li class=\"item-1\" text=\"4\"><a href=\"link4.html\">fourth item</a></li>\n",
      "        \n",
      "<li class=\"item-0\" text=\"5\"><a href=\"link5.html\">fifth item</a></li>\n",
      "    \n"
     ]
    }
   ],
   "source": [
    "#遍历\n",
    "import pyquery\n",
    "doc = pyquery.PyQuery(filename=\"lxml.html\")\n",
    "print(doc('.item-0.active')) #class有空格的话用点替代\n",
    "print(doc(\".items-0.active a\").find(\"a\").attr.href)\n",
    "print(doc(\".items-0.active\").find(\"a\").attr(\"href\"))\n",
    "print(doc(\".items-0.active\").find(\"a\").text())\n",
    "print(doc(\".items-0.active a\").attr.href)\n",
    "print(doc(\".items-0.active\").attr(\"href\"))\n",
    "print(doc(\".items-0.active\").html())\n",
    "lists = doc(\"li\").items() #items()找到li的所有节点的文本，没有items()是一个对象列表\n",
    "for li in lists:\n",
    "    print(li)"
   ]
  },
  {
   "cell_type": "code",
   "execution_count": 29,
   "metadata": {},
   "outputs": [
    {
     "name": "stdout",
     "output_type": "stream",
     "text": [
      "<html> <head><meta http-equiv=\"content-type\" content=\"text/html;charset=utf-8\"/><meta http-equiv=\"X-UA-Compatible\" content=\"IE=Edge\"/><meta content=\"always\" name=\"referrer\"/><link rel=\"stylesheet\" type=\"text/css\" href=\"http://s1.bdstatic.com/r/www/cache/bdorz/baidu.min.css\"/><title>ç¾åº¦ä¸ä¸ï¼ä½ å°±ç¥é</title></head> <body link=\"#0000cc\"> <div id=\"wrapper\"> <div id=\"head\"> <div class=\"head_wrapper\"> <div class=\"s_form\"> <div class=\"s_form_wrapper\"> <div id=\"lg\"> <img hidefocus=\"true\" src=\"//www.baidu.com/img/bd_logo1.png\" width=\"270\" height=\"129\"/> </div> <form id=\"form\" name=\"f\" action=\"//www.baidu.com/s\" class=\"fm\"> <input type=\"hidden\" name=\"bdorz_come\" value=\"1\"/> <input type=\"hidden\" name=\"ie\" value=\"utf-8\"/> <input type=\"hidden\" name=\"f\" value=\"8\"/> <input type=\"hidden\" name=\"rsv_bp\" value=\"1\"/> <input type=\"hidden\" name=\"rsv_idx\" value=\"1\"/> <input type=\"hidden\" name=\"tn\" value=\"baidu\"/><span class=\"bg s_ipt_wr\"><input id=\"kw\" name=\"wd\" class=\"s_ipt\" value=\"\" maxlength=\"255\" autocomplete=\"off\" autofocus=\"\"/></span><span class=\"bg s_btn_wr\"><input type=\"submit\" id=\"su\" value=\"ç¾åº¦ä¸ä¸\" class=\"bg s_btn\"/></span> </form> </div> </div> <div id=\"u1\"> <a href=\"http://news.baidu.com\" name=\"tj_trnews\" class=\"mnav\">æ°é»</a> <a href=\"http://www.hao123.com\" name=\"tj_trhao123\" class=\"mnav\">hao123</a> <a href=\"http://map.baidu.com\" name=\"tj_trmap\" class=\"mnav\">å°å¾</a> <a href=\"http://v.baidu.com\" name=\"tj_trvideo\" class=\"mnav\">è§é¢</a> <a href=\"http://tieba.baidu.com\" name=\"tj_trtieba\" class=\"mnav\">è´´å§</a> <noscript> <a href=\"http://www.baidu.com/bdorz/login.gif?login&amp;tpl=mn&amp;u=http%3A%2F%2Fwww.baidu.com%2f%3fbdorz_come%3d1\" name=\"tj_login\" class=\"lb\">ç»å½</a> </noscript> <script>document.write('&lt;a href=\"http://www.baidu.com/bdorz/login.gif?login&amp;tpl=mn&amp;u='+ encodeURIComponent(window.location.href+ (window.location.search === \"\" ? \"?\" : \"&amp;\")+ \"bdorz_come=1\")+ '\" name=\"tj_login\" class=\"lb\"&gt;ç»å½&lt;/a&gt;');</script> <a href=\"//www.baidu.com/more/\" name=\"tj_briicon\" class=\"bri\" style=\"display: block;\">æ´å¤äº§å</a> </div> </div> </div> <div id=\"ftCon\"> <div id=\"ftConw\"> <p id=\"lh\"> <a href=\"http://home.baidu.com\">å",
      "³äºç¾åº¦</a> <a href=\"http://ir.baidu.com\">About Baidu</a> </p> <p id=\"cp\">©2017 Baidu <a href=\"http://www.baidu.com/duty/\">ä½¿ç¨ç¾åº¦åå¿",
      "è¯»</a>  <a href=\"http://jianyi.baidu.com/\" class=\"cp-feedback\">æè§åé¦</a> äº¬ICPè¯030173å·  <img src=\"//www.baidu.com/img/gs.gif\"/> </p> </div> </div> </div> </body> </html>\n",
      "<p>{\n",
      "  \"args\": {}, \n",
      "  \"data\": \"\", \n",
      "  \"files\": {}, \n",
      "  \"form\": {\n",
      "    \"user\": \"name\"\n",
      "  }, \n",
      "  \"headers\": {\n",
      "    \"Accept\": \"*/*\", \n",
      "    \"Accept-Encoding\": \"gzip, deflate\", \n",
      "    \"Connection\": \"close\", \n",
      "    \"Content-Length\": \"9\", \n",
      "    \"Content-Type\": \"application/x-www-form-urlencoded\", \n",
      "    \"Host\": \"httpbin.org\", \n",
      "    \"User-Agent\": \"python-requests/2.18.4\"\n",
      "  }, \n",
      "  \"json\": null, \n",
      "  \"origin\": \"14.28.3.226\", \n",
      "  \"url\": \"http://httpbin.org/post\"\n",
      "}\n",
      "</p>\n"
     ]
    }
   ],
   "source": [
    "# pyquery实现打开网页\n",
    "import pyquery\n",
    "print(pyquery.PyQuery(\"http://www.baidu.com\", headers={\"user-agend\":\"pyquery\"}))\n",
    "print(pyquery.PyQuery(\"http://httpbin.org/post\", {\"user\":\"name\"}, method=\"post\", verify=False))"
   ]
  },
  {
   "cell_type": "code",
   "execution_count": null,
   "metadata": {},
   "outputs": [],
   "source": []
  }
 ],
 "metadata": {
  "kernelspec": {
   "display_name": "Python 3",
   "language": "python",
   "name": "python3"
  },
  "language_info": {
   "codemirror_mode": {
    "name": "ipython",
    "version": 3
   },
   "file_extension": ".py",
   "mimetype": "text/x-python",
   "name": "python",
   "nbconvert_exporter": "python",
   "pygments_lexer": "ipython3",
   "version": "3.6.4"
  }
 },
 "nbformat": 4,
 "nbformat_minor": 2
}
