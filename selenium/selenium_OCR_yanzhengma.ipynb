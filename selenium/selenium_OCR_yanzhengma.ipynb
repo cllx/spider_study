{
 "cells": [
  {
   "cell_type": "code",
   "execution_count": 4,
   "metadata": {},
   "outputs": [
    {
     "name": "stdout",
     "output_type": "stream",
     "text": [
      "---------->~KAP 8\\\n"
     ]
    }
   ],
   "source": [
    "# encodinh:utf-8\n",
    "import pytesseract\n",
    "from PIL import Image\n",
    "\n",
    "pytesseract.pytesseract.tesseract_cmd = 'E:/Tesseract-OCR/tesseract.exe'\n",
    "text = pytesseract.image_to_string(Image.open('G:/python/jupyter/spider/img/yanzhengma2.jpg'))\n",
    "print(\"---------->%s\" %(text))"
   ]
  },
  {
   "cell_type": "code",
   "execution_count": 10,
   "metadata": {
    "scrolled": false
   },
   "outputs": [
    {
     "name": "stdout",
     "output_type": "stream",
     "text": [
      ".......s4n8\n",
      "\n",
      "\n"
     ]
    }
   ],
   "source": [
    "import subprocess\n",
    "p = subprocess.Popen([r\"E:/Tesseract-OCR/tesseract.exe\", r\"G:/python/jupyter/spider/img/yanzhengma5.jpg\", \"last\"],\n",
    "                    stdout = subprocess.PIPE, stderr = subprocess.PIPE)\n",
    "p.wait()\n",
    "file = open('last.txt', \"r\")\n",
    "print(\".......%s\" %(file.read()))"
   ]
  },
  {
   "cell_type": "code",
   "execution_count": null,
   "metadata": {},
   "outputs": [],
   "source": []
  }
 ],
 "metadata": {
  "kernelspec": {
   "display_name": "Python 3",
   "language": "python",
   "name": "python3"
  },
  "language_info": {
   "codemirror_mode": {
    "name": "ipython",
    "version": 3
   },
   "file_extension": ".py",
   "mimetype": "text/x-python",
   "name": "python",
   "nbconvert_exporter": "python",
   "pygments_lexer": "ipython3",
   "version": "3.6.4"
  }
 },
 "nbformat": 4,
 "nbformat_minor": 2
}
