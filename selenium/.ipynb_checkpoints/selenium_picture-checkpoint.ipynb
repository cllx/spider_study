{
 "cells": [
  {
   "cell_type": "code",
   "execution_count": 4,
   "metadata": {},
   "outputs": [
    {
     "name": "stderr",
     "output_type": "stream",
     "text": [
      "e:\\anaconda3\\lib\\site-packages\\ipykernel_launcher.py:8: DeprecationWarning: use options instead of chrome_options\n",
      "  \n"
     ]
    }
   ],
   "source": [
    "from selenium import webdriver\n",
    "import selenium\n",
    "from selenium.webdriver.common.desired_capabilities import DesiredCapabilities\n",
    "import time\n",
    "options = selenium.webdriver.ChromeOptions()\n",
    "prefs = {\"profile.default_content_setting_values\": {\"images\":2}}\n",
    "options.add_experimental_option(\"prefs\", prefs) #不加载图片，加快浏览器速度\n",
    "driver = selenium.webdriver.Chrome(chrome_options=options)\n",
    "driver.get(\"https://www.baidu.com/s?wd=%E5%B0%B9%E6%88%90&rsv_spt=1&rsv_iqid=0xf83111c60001ea9a&issp=1&f=3&rsv_bp=1&rsv_idx=2&ie=utf-8&rqlang=cn&tn=baiduhome_pg&rsv_enter=0&rsv_t=28e2qtTw9Ql459bdXlJbHsdibw9sUwR8hSXoBR5e5Y7%2F2%2Bka0H7n8GBz%2Bhf5p8ln9NV8&oq=lenses.txt&rsv_pq=88f25a6a00035ab4&inputT=2870&rsv_sug3=87&rsv_sug2=0&prefixsug=%25E5%25B0%25B9%25E6%2588%2590&rsp=0&rsv_sug4=2870&rsv_sug=1\")\n",
    "time.sleep(15)\n",
    "driver.quit()"
   ]
  },
  {
   "cell_type": "code",
   "execution_count": null,
   "metadata": {},
   "outputs": [],
   "source": []
  }
 ],
 "metadata": {
  "kernelspec": {
   "display_name": "Python 3",
   "language": "python",
   "name": "python3"
  },
  "language_info": {
   "codemirror_mode": {
    "name": "ipython",
    "version": 3
   },
   "file_extension": ".py",
   "mimetype": "text/x-python",
   "name": "python",
   "nbconvert_exporter": "python",
   "pygments_lexer": "ipython3",
   "version": "3.6.4"
  }
 },
 "nbformat": 4,
 "nbformat_minor": 2
}
